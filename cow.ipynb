{
 "cells": [
  {
   "cell_type": "code",
   "execution_count": 19,
   "id": "0afe0364-cbbf-404c-827a-d143496dcb1b",
   "metadata": {},
   "outputs": [],
   "source": [
    "import copy\n",
    "import pandas as pd\n",
    "import random"
   ]
  },
  {
   "cell_type": "code",
   "execution_count": 20,
   "id": "21afc1bb-6f57-4f99-8540-867debd44fd9",
   "metadata": {},
   "outputs": [],
   "source": [
    "class Player:\n",
    "    \"\"\"This is a player with his/her cards and points.\"\"\"\n",
    "    def __init__(self, name, st_give, st_take):\n",
    "        self.name = name\n",
    "        self.st_give = st_give\n",
    "        self.st_take = st_take\n",
    "        self.ochki = 0\n",
    "        self.cards = []\n",
    "        \n",
    "    def show_info(self):\n",
    "        print(f'Name: {self.name}\\nStrategies: {self.st_give}, {self.st_take}\\nCards: {self.cards}\\nPoints: {self.ochki}')\n",
    "         \n",
    "    def give_card(self):\n",
    "        \"\"\"This is how the player makes a move.\"\"\"\n",
    "        return self.cards.pop()\n",
    "    \n",
    "    def zagrabastat(self, ochki):\n",
    "        \"\"\"This method gives points to player.\"\"\"\n",
    "        self.ochki += ochki\n",
    "        \n",
    "    def take_cards(self, cards):\n",
    "        \"\"\"This method gives cards to player.\"\"\"\n",
    "        self.cards = cards\n",
    "        \n",
    "    "
   ]
  },
  {
   "cell_type": "code",
   "execution_count": 21,
   "id": "c01a7565-8706-4d52-ac83-4646dcda4ca4",
   "metadata": {},
   "outputs": [],
   "source": [
    "class Deck:\n",
    "    def __init__(self):\n",
    "        self.cards = list(range(1, 105))\n",
    "        random.shuffle(self.cards)\n",
    "        self.ochki = self.get_points()\n",
    "    \n",
    "    def get_points(self):\n",
    "        result = {}\n",
    "        for card in self.cards:\n",
    "            if card == 55:\n",
    "                points = 7\n",
    "            elif card % 10 == 0:\n",
    "                points = 3\n",
    "            elif card % 5 == 0:\n",
    "                points = 2\n",
    "            elif card % 11 == 0:\n",
    "                points = 5\n",
    "            else:\n",
    "                points = 1\n",
    "            result[card] = points\n",
    "        return result\n",
    "    \n",
    "    def deal_cards(self, count):\n",
    "        if count <1:\n",
    "            print('Enter a positive number')\n",
    "        elif count == 1:\n",
    "            return self.cards.pop()\n",
    "        elif count >1:\n",
    "            return self.pop_cards(count)\n",
    "        \n",
    "    def pop_cards(self, count):\n",
    "        result = []\n",
    "        for card in range(count):\n",
    "            result.append(self.cards.pop())\n",
    "        return result\n",
    "    \n",
    "    def show_info(self, count=104):\n",
    "        print('Showing DECK info')\n",
    "        print(f\"Cards left: {len(self.cards)}\")\n",
    "        if count == 104:\n",
    "            print(f'Showing all cards: {self.cards[-count:]}')\n",
    "        else:\n",
    "            print(f'Showing last {count} cards: {self.cards[-count:]}')"
   ]
  },
  {
   "cell_type": "code",
   "execution_count": 22,
   "id": "20c1b6df-2a24-41c9-ae1b-1d7819af8345",
   "metadata": {},
   "outputs": [],
   "source": [
    "class Rows:\n",
    "    def __init__(self, cards, ochki):\n",
    "        self.ochki = ochki\n",
    "        empty_dict = {\"cards\": [], \"count\": 0, \"ochki\": 0}\n",
    "        self.data = {\"r0\": copy.deepcopy(empty_dict),\n",
    "                     \"r1\": copy.deepcopy(empty_dict),\n",
    "                     \"r2\": copy.deepcopy(empty_dict),\n",
    "                     \"r3\": copy.deepcopy(empty_dict),}\n",
    "        for key, value in self.data.items():\n",
    "            # add a card to the row\n",
    "            one_card = cards.pop()\n",
    "            self.data[key][\"cards\"].append(one_card)\n",
    "            # increment cards' count\n",
    "            self.data[key][\"count\"] += 1\n",
    "            # count points (ochki)\n",
    "            self.data[key][\"ochki\"] += self.ochki[one_card]\n",
    "\n",
    "    def show_info(self):\n",
    "        print(\"\\nShowing rows info:\")\n",
    "        for key, value in self.data.items():\n",
    "            print(f\"{key}: {value}\")\n",
    "\n",
    "    def game_round(self, players):\n",
    "        # create dict card>>player (as object)\n",
    "        cs2p = {}\n",
    "        for p in players:\n",
    "            card = p.give_card()\n",
    "            cs2p[card] = p\n",
    "        \n",
    "        # copy cards to a list\n",
    "        players_cards = [c for c in cs2p.keys()]\n",
    "        \n",
    "        # take minimal card and put to row\n",
    "        for move in range(len(players)):\n",
    "            # find minimal value\n",
    "            min_value = min(players_cards)\n",
    "            # find index of the card\n",
    "            min_id = players_cards.index(min_value)\n",
    "            # pop minimal card\n",
    "            min_card = players_cards.pop(min_id)\n",
    "            player_min = cs2p[min_card]\n",
    "            self.put_card_on_row(min_card, player_min)\n",
    "        self.show_info()\n",
    "    \n",
    "    def put_card_on_row(self, card, player):\n",
    "        # calculate deltas\n",
    "        deltas = {}\n",
    "        for key, value in self.data.items():\n",
    "            deltas[key] = card - value[\"cards\"][-1]\n",
    "        # print(deltas)\n",
    "        \n",
    "        # find row with minimal positive delta\n",
    "        row_found = None\n",
    "        mpd = 105  # minimum positive delta\n",
    "        for key, value in deltas.items():\n",
    "            if value > 0:\n",
    "                if value < mpd:\n",
    "                    mpd = value\n",
    "                    row_found = key\n",
    "       \n",
    "        # Player is going to zagrabastat here or add card to the row\n",
    "        if row_found:\n",
    "            if self.data[row_found][\"count\"] == 5:\n",
    "                #print(f\"row {row_found} has five cards\")\n",
    "                # ZAGRABASTAT\n",
    "                player.zagrabastat(self.data[row_found][\"ochki\"])\n",
    "                # remove the cards from the row and make \"card\" the first and only card in the row\n",
    "                self.data[row_found][\"cards\"] = [card]\n",
    "                self.data[row_found][\"count\"] = 1\n",
    "                self.data[row_found][\"ochki\"] = self.ochki[card]\n",
    "\n",
    "                # pass \"ochki\" to the player\n",
    "                \n",
    "                \n",
    "            else:\n",
    "                #print(f\"row {row_found} has less than five cards\")\n",
    "                # add the card to the row\n",
    "                self.data[row_found][\"cards\"].append(card)\n",
    "                # increment cards' count\n",
    "                self.data[row_found][\"count\"] += 1\n",
    "                # count points (ochki)\n",
    "                self.data[row_found][\"ochki\"] += self.ochki[card]\n",
    "\n",
    "        else:\n",
    "            #print(\"Player grabastaet r0\")\n",
    "            # Player grabastaet the first row \"r0\"\n",
    "            player.zagrabastat(self.data[\"r0\"][\"ochki\"])\n",
    "            self.data[\"r0\"][\"cards\"] = [card]\n",
    "            self.data[\"r0\"][\"count\"] = 1\n",
    "            self.data[\"r0\"][\"ochki\"] = self.ochki[card]\n"
   ]
  },
  {
   "cell_type": "markdown",
   "id": "4ebdc3d5-8033-4ecd-9111-974ef5617f70",
   "metadata": {},
   "source": [
    "# Prepare for game"
   ]
  },
  {
   "cell_type": "code",
   "execution_count": 23,
   "id": "f8be8b83-33fc-4898-b0ec-ddb0148361db",
   "metadata": {},
   "outputs": [],
   "source": [
    "def one_game():\n",
    "    # create a deck\n",
    "    deck = Deck()\n",
    "    \n",
    "    # create the rows\n",
    "    rows = Rows(deck.deal_cards(4), deck.ochki)\n",
    "    \n",
    "    # creating players\n",
    "    p0 = Player(\"Jenny\", \"give_random\", \"take_random\")\n",
    "    p1 = Player(\"Tonia\", \"give_random\", \"take_random\")\n",
    "    p2 = Player(\"Roma\", \"give_random\", \"take_random\")\n",
    "    p3 = Player(\"Nastia\", \"give_random\", \"take_random\")\n",
    "    players = [p0, p1, p2, p3]\n",
    "    # give them cards\n",
    "    for p in players:\n",
    "        p.take_cards(deck.deal_cards(10))\n",
    "    \n",
    "    # simulate 10 moves (one_game)\n",
    "    for round in range(10):\n",
    "        rows.game_round(players)\n",
    "\n",
    "    \n",
    "    # rows.show_info()\n",
    "    # for p in players:\n",
    "    #     p.show_info()\n",
    "    return [p.ochki for p in players]"
   ]
  },
  {
   "cell_type": "markdown",
   "id": "f21a403e-9769-44cf-81e6-e54d52c3c268",
   "metadata": {},
   "source": [
    "# Games"
   ]
  },
  {
   "cell_type": "code",
   "execution_count": 24,
   "id": "294764d7-3ab0-4c50-b2e0-60d972f23c9f",
   "metadata": {},
   "outputs": [
    {
     "name": "stdout",
     "output_type": "stream",
     "text": [
      "\n",
      "Showing rows info:\n",
      "r0: {'cards': [76, 90], 'count': 2, 'ochki': 4}\n",
      "r1: {'cards': [56], 'count': 1, 'ochki': 1}\n",
      "r2: {'cards': [63], 'count': 1, 'ochki': 1}\n",
      "r3: {'cards': [8, 20, 26, 27], 'count': 4, 'ochki': 6}\n",
      "\n",
      "Showing rows info:\n",
      "r0: {'cards': [76, 90, 96, 101], 'count': 4, 'ochki': 6}\n",
      "r1: {'cards': [56], 'count': 1, 'ochki': 1}\n",
      "r2: {'cards': [63, 78], 'count': 2, 'ochki': 2}\n",
      "r3: {'cards': [8, 20, 26, 27, 48], 'count': 5, 'ochki': 7}\n",
      "\n",
      "Showing rows info:\n",
      "r0: {'cards': [5, 16, 40], 'count': 3, 'ochki': 6}\n",
      "r1: {'cards': [56], 'count': 1, 'ochki': 1}\n",
      "r2: {'cards': [63, 78, 100], 'count': 3, 'ochki': 5}\n",
      "r3: {'cards': [8, 20, 26, 27, 48], 'count': 5, 'ochki': 7}\n",
      "\n",
      "Showing rows info:\n",
      "r0: {'cards': [28, 30], 'count': 2, 'ochki': 4}\n",
      "r1: {'cards': [56, 94], 'count': 2, 'ochki': 2}\n",
      "r2: {'cards': [63, 78, 100, 104], 'count': 4, 'ochki': 6}\n",
      "r3: {'cards': [8, 20, 26, 27, 48], 'count': 5, 'ochki': 7}\n",
      "\n",
      "Showing rows info:\n",
      "r0: {'cards': [18, 35, 38, 47], 'count': 4, 'ochki': 5}\n",
      "r1: {'cards': [56, 94], 'count': 2, 'ochki': 2}\n",
      "r2: {'cards': [63, 78, 100, 104], 'count': 4, 'ochki': 6}\n",
      "r3: {'cards': [8, 20, 26, 27, 48], 'count': 5, 'ochki': 7}\n",
      "\n",
      "Showing rows info:\n",
      "r0: {'cards': [31, 32], 'count': 2, 'ochki': 2}\n",
      "r1: {'cards': [56, 94], 'count': 2, 'ochki': 2}\n",
      "r2: {'cards': [63, 78, 100, 104], 'count': 4, 'ochki': 6}\n",
      "r3: {'cards': [60, 82], 'count': 2, 'ochki': 4}\n",
      "\n",
      "Showing rows info:\n",
      "r0: {'cards': [7, 43, 53], 'count': 3, 'ochki': 3}\n",
      "r1: {'cards': [56, 94], 'count': 2, 'ochki': 2}\n",
      "r2: {'cards': [63, 78, 100, 104], 'count': 4, 'ochki': 6}\n",
      "r3: {'cards': [60, 82, 84], 'count': 3, 'ochki': 5}\n",
      "\n",
      "Showing rows info:\n",
      "r0: {'cards': [17, 22, 44, 51], 'count': 4, 'ochki': 12}\n",
      "r1: {'cards': [56, 94], 'count': 2, 'ochki': 2}\n",
      "r2: {'cards': [63, 78, 100, 104], 'count': 4, 'ochki': 6}\n",
      "r3: {'cards': [60, 82, 84], 'count': 3, 'ochki': 5}\n",
      "\n",
      "Showing rows info:\n",
      "r0: {'cards': [37, 70, 80], 'count': 3, 'ochki': 7}\n",
      "r1: {'cards': [56, 94], 'count': 2, 'ochki': 2}\n",
      "r2: {'cards': [63, 78, 100, 104], 'count': 4, 'ochki': 6}\n",
      "r3: {'cards': [60, 82, 84, 86], 'count': 4, 'ochki': 6}\n",
      "\n",
      "Showing rows info:\n",
      "r0: {'cards': [21, 25], 'count': 2, 'ochki': 3}\n",
      "r1: {'cards': [56, 94], 'count': 2, 'ochki': 2}\n",
      "r2: {'cards': [63, 78, 100, 104], 'count': 4, 'ochki': 6}\n",
      "r3: {'cards': [91], 'count': 1, 'ochki': 1}\n"
     ]
    }
   ],
   "source": [
    "result = {f\"p{x}\": [] for x in range(4)}\n",
    "for game in range(1):\n",
    "    ochki = one_game()\n",
    "    for x in range(4): \n",
    "        result[f'p{x}'].append(ochki[x])"
   ]
  },
  {
   "cell_type": "code",
   "execution_count": 17,
   "id": "73459c02-d34d-477a-92d0-4528a0c8e5f3",
   "metadata": {},
   "outputs": [
    {
     "data": {
      "text/plain": [
       "[22, 11, 15, 11]"
      ]
     },
     "execution_count": 17,
     "metadata": {},
     "output_type": "execute_result"
    }
   ],
   "source": [
    "ochki"
   ]
  },
  {
   "cell_type": "code",
   "execution_count": 18,
   "id": "0a3f8e4f-5c81-43c9-9535-a4fb625a9e4b",
   "metadata": {},
   "outputs": [
    {
     "data": {
      "text/html": [
       "<div>\n",
       "<style scoped>\n",
       "    .dataframe tbody tr th:only-of-type {\n",
       "        vertical-align: middle;\n",
       "    }\n",
       "\n",
       "    .dataframe tbody tr th {\n",
       "        vertical-align: top;\n",
       "    }\n",
       "\n",
       "    .dataframe thead th {\n",
       "        text-align: right;\n",
       "    }\n",
       "</style>\n",
       "<table border=\"1\" class=\"dataframe\">\n",
       "  <thead>\n",
       "    <tr style=\"text-align: right;\">\n",
       "      <th></th>\n",
       "      <th>p0</th>\n",
       "      <th>p1</th>\n",
       "      <th>p2</th>\n",
       "      <th>p3</th>\n",
       "    </tr>\n",
       "  </thead>\n",
       "  <tbody>\n",
       "    <tr>\n",
       "      <th>0</th>\n",
       "      <td>18</td>\n",
       "      <td>5</td>\n",
       "      <td>16</td>\n",
       "      <td>21</td>\n",
       "    </tr>\n",
       "    <tr>\n",
       "      <th>1</th>\n",
       "      <td>7</td>\n",
       "      <td>6</td>\n",
       "      <td>25</td>\n",
       "      <td>22</td>\n",
       "    </tr>\n",
       "    <tr>\n",
       "      <th>2</th>\n",
       "      <td>18</td>\n",
       "      <td>13</td>\n",
       "      <td>9</td>\n",
       "      <td>12</td>\n",
       "    </tr>\n",
       "    <tr>\n",
       "      <th>3</th>\n",
       "      <td>18</td>\n",
       "      <td>5</td>\n",
       "      <td>15</td>\n",
       "      <td>6</td>\n",
       "    </tr>\n",
       "    <tr>\n",
       "      <th>4</th>\n",
       "      <td>12</td>\n",
       "      <td>19</td>\n",
       "      <td>7</td>\n",
       "      <td>4</td>\n",
       "    </tr>\n",
       "    <tr>\n",
       "      <th>...</th>\n",
       "      <td>...</td>\n",
       "      <td>...</td>\n",
       "      <td>...</td>\n",
       "      <td>...</td>\n",
       "    </tr>\n",
       "    <tr>\n",
       "      <th>995</th>\n",
       "      <td>13</td>\n",
       "      <td>16</td>\n",
       "      <td>10</td>\n",
       "      <td>10</td>\n",
       "    </tr>\n",
       "    <tr>\n",
       "      <th>996</th>\n",
       "      <td>18</td>\n",
       "      <td>12</td>\n",
       "      <td>8</td>\n",
       "      <td>11</td>\n",
       "    </tr>\n",
       "    <tr>\n",
       "      <th>997</th>\n",
       "      <td>16</td>\n",
       "      <td>12</td>\n",
       "      <td>7</td>\n",
       "      <td>3</td>\n",
       "    </tr>\n",
       "    <tr>\n",
       "      <th>998</th>\n",
       "      <td>10</td>\n",
       "      <td>9</td>\n",
       "      <td>0</td>\n",
       "      <td>24</td>\n",
       "    </tr>\n",
       "    <tr>\n",
       "      <th>999</th>\n",
       "      <td>22</td>\n",
       "      <td>11</td>\n",
       "      <td>15</td>\n",
       "      <td>11</td>\n",
       "    </tr>\n",
       "  </tbody>\n",
       "</table>\n",
       "<p>1000 rows × 4 columns</p>\n",
       "</div>"
      ],
      "text/plain": [
       "     p0  p1  p2  p3\n",
       "0    18   5  16  21\n",
       "1     7   6  25  22\n",
       "2    18  13   9  12\n",
       "3    18   5  15   6\n",
       "4    12  19   7   4\n",
       "..   ..  ..  ..  ..\n",
       "995  13  16  10  10\n",
       "996  18  12   8  11\n",
       "997  16  12   7   3\n",
       "998  10   9   0  24\n",
       "999  22  11  15  11\n",
       "\n",
       "[1000 rows x 4 columns]"
      ]
     },
     "execution_count": 18,
     "metadata": {},
     "output_type": "execute_result"
    }
   ],
   "source": [
    "df = pd.DataFrame(result)\n",
    "df"
   ]
  },
  {
   "cell_type": "code",
   "execution_count": 79,
   "id": "360f163f-f417-4a2e-ad6a-50bdde0c9ea6",
   "metadata": {},
   "outputs": [
    {
     "data": {
      "text/html": [
       "<div>\n",
       "<style scoped>\n",
       "    .dataframe tbody tr th:only-of-type {\n",
       "        vertical-align: middle;\n",
       "    }\n",
       "\n",
       "    .dataframe tbody tr th {\n",
       "        vertical-align: top;\n",
       "    }\n",
       "\n",
       "    .dataframe thead th {\n",
       "        text-align: right;\n",
       "    }\n",
       "</style>\n",
       "<table border=\"1\" class=\"dataframe\">\n",
       "  <thead>\n",
       "    <tr style=\"text-align: right;\">\n",
       "      <th></th>\n",
       "      <th>p0</th>\n",
       "      <th>p1</th>\n",
       "      <th>p2</th>\n",
       "      <th>p3</th>\n",
       "    </tr>\n",
       "  </thead>\n",
       "  <tbody>\n",
       "    <tr>\n",
       "      <th>23</th>\n",
       "      <td>11</td>\n",
       "      <td>25</td>\n",
       "      <td>3</td>\n",
       "      <td>6</td>\n",
       "    </tr>\n",
       "    <tr>\n",
       "      <th>24</th>\n",
       "      <td>2</td>\n",
       "      <td>17</td>\n",
       "      <td>7</td>\n",
       "      <td>35</td>\n",
       "    </tr>\n",
       "    <tr>\n",
       "      <th>25</th>\n",
       "      <td>9</td>\n",
       "      <td>24</td>\n",
       "      <td>24</td>\n",
       "      <td>2</td>\n",
       "    </tr>\n",
       "    <tr>\n",
       "      <th>26</th>\n",
       "      <td>9</td>\n",
       "      <td>18</td>\n",
       "      <td>14</td>\n",
       "      <td>15</td>\n",
       "    </tr>\n",
       "    <tr>\n",
       "      <th>27</th>\n",
       "      <td>8</td>\n",
       "      <td>9</td>\n",
       "      <td>16</td>\n",
       "      <td>29</td>\n",
       "    </tr>\n",
       "    <tr>\n",
       "      <th>...</th>\n",
       "      <td>...</td>\n",
       "      <td>...</td>\n",
       "      <td>...</td>\n",
       "      <td>...</td>\n",
       "    </tr>\n",
       "    <tr>\n",
       "      <th>93</th>\n",
       "      <td>19</td>\n",
       "      <td>7</td>\n",
       "      <td>22</td>\n",
       "      <td>7</td>\n",
       "    </tr>\n",
       "    <tr>\n",
       "      <th>94</th>\n",
       "      <td>10</td>\n",
       "      <td>22</td>\n",
       "      <td>8</td>\n",
       "      <td>16</td>\n",
       "    </tr>\n",
       "    <tr>\n",
       "      <th>95</th>\n",
       "      <td>15</td>\n",
       "      <td>5</td>\n",
       "      <td>26</td>\n",
       "      <td>1</td>\n",
       "    </tr>\n",
       "    <tr>\n",
       "      <th>96</th>\n",
       "      <td>13</td>\n",
       "      <td>13</td>\n",
       "      <td>18</td>\n",
       "      <td>7</td>\n",
       "    </tr>\n",
       "    <tr>\n",
       "      <th>97</th>\n",
       "      <td>11</td>\n",
       "      <td>24</td>\n",
       "      <td>7</td>\n",
       "      <td>12</td>\n",
       "    </tr>\n",
       "  </tbody>\n",
       "</table>\n",
       "<p>75 rows × 4 columns</p>\n",
       "</div>"
      ],
      "text/plain": [
       "    p0  p1  p2  p3\n",
       "23  11  25   3   6\n",
       "24   2  17   7  35\n",
       "25   9  24  24   2\n",
       "26   9  18  14  15\n",
       "27   8   9  16  29\n",
       "..  ..  ..  ..  ..\n",
       "93  19   7  22   7\n",
       "94  10  22   8  16\n",
       "95  15   5  26   1\n",
       "96  13  13  18   7\n",
       "97  11  24   7  12\n",
       "\n",
       "[75 rows x 4 columns]"
      ]
     },
     "execution_count": 79,
     "metadata": {},
     "output_type": "execute_result"
    }
   ],
   "source": [
    "df[23:98]"
   ]
  },
  {
   "cell_type": "code",
   "execution_count": 84,
   "id": "94774728-8131-4a87-804b-5c397b94f172",
   "metadata": {},
   "outputs": [
    {
     "data": {
      "text/plain": [
       "13.097873"
      ]
     },
     "execution_count": 84,
     "metadata": {},
     "output_type": "execute_result"
    }
   ],
   "source": [
    "df[\"p0\"].mean()"
   ]
  },
  {
   "cell_type": "code",
   "execution_count": 25,
   "id": "c9e212ea-3330-4bb0-9f4c-8dc1bf433bac",
   "metadata": {},
   "outputs": [],
   "source": []
  },
  {
   "cell_type": "code",
   "execution_count": 26,
   "id": "1889f4f3-ed0e-44a2-84eb-10cc72f2dc7c",
   "metadata": {},
   "outputs": [
    {
     "name": "stdout",
     "output_type": "stream",
     "text": [
      "Name: Rabbit\n",
      "Strategies: give_random, take_random\n",
      "Cards: [50, 41, 5, 64, 10, 3, 74, 57, 78, 35]\n",
      "Points: 0\n",
      "Name: Sony\n",
      "Strategies: give_random, take_random\n",
      "Cards: [46, 91, 2, 54, 6, 56, 49, 22, 45, 86]\n",
      "Points: 0\n",
      "Name: Cactus\n",
      "Strategies: give_random, take_random\n",
      "Cards: [85, 19, 25, 103, 61, 97, 42, 88, 48, 30]\n",
      "Points: 0\n"
     ]
    }
   ],
   "source": [
    "rabbit.show_info()\n",
    "sony.show_info()\n",
    "cactus.show_info()"
   ]
  },
  {
   "cell_type": "code",
   "execution_count": 27,
   "id": "d478d1c0-a4d3-49e6-896a-3836692b8f28",
   "metadata": {},
   "outputs": [
    {
     "name": "stdout",
     "output_type": "stream",
     "text": [
      "Showing DECK info\n",
      "Cards left: 74\n",
      "Showing all cards: [1, 71, 27, 33, 101, 24, 87, 51, 37, 44, 58, 76, 92, 65, 63, 72, 96, 17, 77, 70, 69, 14, 59, 7, 40, 12, 66, 82, 95, 32, 104, 99, 100, 67, 83, 23, 75, 53, 47, 15, 11, 81, 38, 13, 73, 94, 84, 26, 9, 36, 79, 102, 80, 62, 21, 20, 16, 98, 8, 60, 31, 4, 90, 55, 18, 68, 34, 29, 52, 28, 93, 43, 89, 39]\n"
     ]
    }
   ],
   "source": [
    "deck.show_info()"
   ]
  },
  {
   "cell_type": "code",
   "execution_count": null,
   "id": "01ed3628-6b5a-4751-bec1-8203993b89f1",
   "metadata": {},
   "outputs": [],
   "source": []
  },
  {
   "cell_type": "code",
   "execution_count": 12,
   "id": "d0ab2b16-b330-461f-846d-26530812e99d",
   "metadata": {},
   "outputs": [
    {
     "data": {
      "text/plain": [
       "[22, 20, 39, 26, 49, 6, 98, 52, 51, 54]"
      ]
     },
     "execution_count": 12,
     "metadata": {},
     "output_type": "execute_result"
    }
   ],
   "source": [
    "ten_cards = deck.deal_cards(10)\n",
    "ten_cards"
   ]
  },
  {
   "cell_type": "code",
   "execution_count": 14,
   "id": "53c09a2d-83b4-4a89-8eac-bed00fe59fda",
   "metadata": {},
   "outputs": [
    {
     "name": "stdout",
     "output_type": "stream",
     "text": [
      "Name: Rabbit\n",
      "Strategies: give_random, take_random\n",
      "Cards: [22, 20, 39, 26, 49, 6, 98, 52, 51, 54]\n",
      "Points: 0\n"
     ]
    }
   ],
   "source": [
    "rabbit.take_cards(ten_cards)\n",
    "rabbit.show_info()"
   ]
  },
  {
   "cell_type": "code",
   "execution_count": 15,
   "id": "0b15e502-81e6-4d84-a542-b32dc663cb8d",
   "metadata": {},
   "outputs": [
    {
     "data": {
      "text/plain": [
       "[22, 20, 39, 26, 49, 6, 98, 52, 51, 54]"
      ]
     },
     "execution_count": 15,
     "metadata": {},
     "output_type": "execute_result"
    }
   ],
   "source": [
    "rabbit.cards"
   ]
  },
  {
   "cell_type": "code",
   "execution_count": 21,
   "id": "a3f0bfee-6051-44d7-bfc1-4296b5b8e544",
   "metadata": {},
   "outputs": [
    {
     "data": {
      "text/plain": [
       "'Jenny'"
      ]
     },
     "execution_count": 21,
     "metadata": {},
     "output_type": "execute_result"
    }
   ],
   "source": [
    "jenny.name"
   ]
  },
  {
   "cell_type": "code",
   "execution_count": 9,
   "id": "f94723f9-9090-41fc-bdb8-f5d912e8df99",
   "metadata": {},
   "outputs": [
    {
     "name": "stdout",
     "output_type": "stream",
     "text": [
      "Showing DECK info\n",
      "Cards left: 104\n",
      "Showing last 15 cards: [1, 92, 65, 80, 30, 68, 69, 67, 72, 29, 10, 32, 37, 95, 99]\n",
      "Showing DECK info\n",
      "Cards left: 94\n",
      "Showing last 7 cards: [62, 104, 1, 92, 65, 80, 30]\n"
     ]
    }
   ],
   "source": [
    "deck = Deck()\n",
    "deck.show_info(15)\n",
    "x = deck.deal_cards(10)\n",
    "deck.show_info(7)"
   ]
  },
  {
   "cell_type": "code",
   "execution_count": 10,
   "id": "859ae8e3-6843-490b-b301-afdcd265fbc1",
   "metadata": {},
   "outputs": [
    {
     "data": {
      "text/plain": [
       "[99, 95, 37, 32, 10, 29, 72, 67, 69, 68]"
      ]
     },
     "execution_count": 10,
     "metadata": {},
     "output_type": "execute_result"
    }
   ],
   "source": [
    "x"
   ]
  },
  {
   "cell_type": "code",
   "execution_count": 106,
   "id": "2bbe6b57-bfdd-4a1a-aa56-e87895a34ca2",
   "metadata": {},
   "outputs": [
    {
     "name": "stdout",
     "output_type": "stream",
     "text": [
      "Showing DECK info\n",
      "Cards left: 102\n",
      "Showing last 3 cards: [64, 89, 66]\n"
     ]
    }
   ],
   "source": [
    "deck.cards.pop()\n",
    "deck.show_info(3)"
   ]
  },
  {
   "cell_type": "code",
   "execution_count": null,
   "id": "8f561167-a291-43b3-9b28-9e8c8637518f",
   "metadata": {},
   "outputs": [],
   "source": []
  },
  {
   "cell_type": "code",
   "execution_count": null,
   "id": "9549e189-2dae-4089-8064-ca16765f1fe4",
   "metadata": {},
   "outputs": [],
   "source": []
  },
  {
   "cell_type": "code",
   "execution_count": 11,
   "id": "1e8e95b4-ede7-418f-b4dd-bb3b06da20b9",
   "metadata": {},
   "outputs": [
    {
     "name": "stdout",
     "output_type": "stream",
     "text": [
      "[1, 2, 3, 4, 5, 6, 7, 8, 9, 10, 11, 12, 13, 14, 15, 16, 17, 18, 19, 20, 21, 22, 23, 24, 25, 26, 27, 28, 29, 30, 31, 32, 33, 34, 35, 36, 37, 38, 39, 40, 41, 42, 43, 44, 45, 46, 47, 48, 49, 50, 51, 52, 53, 54, 55, 56, 57, 58, 59, 60, 61, 62, 63, 64, 65, 66, 67, 68, 69, 70, 71, 72, 73, 74, 75, 76, 77, 78, 79, 80, 81, 82, 83, 84, 85, 86, 87, 88, 89, 90, 91, 92, 93, 94, 95, 96, 97, 98, 99, 100, 101, 102, 103, 104]\n"
     ]
    }
   ],
   "source": [
    "cards = list(range(1, 105))\n",
    "print(cards)"
   ]
  },
  {
   "cell_type": "code",
   "execution_count": 23,
   "id": "00020660-ff98-4091-b366-047f0b8ad050",
   "metadata": {},
   "outputs": [],
   "source": [
    "me = {\n",
    "    \"name\": 'Jenny',\n",
    "    \"age\": 12,\n",
    "    \"school\": 73,\n",
    "    \"city\": 'Wroclaw',\n",
    "}"
   ]
  },
  {
   "cell_type": "code",
   "execution_count": 25,
   "id": "7150207b-a642-46e1-ad91-41c4eb72a1d1",
   "metadata": {},
   "outputs": [
    {
     "data": {
      "text/plain": [
       "'Tonia'"
      ]
     },
     "execution_count": 25,
     "metadata": {},
     "output_type": "execute_result"
    }
   ],
   "source": [
    "me[\"name\"] = \"Tonia\"\n",
    "me[\"name\"]"
   ]
  },
  {
   "cell_type": "code",
   "execution_count": 26,
   "id": "92231348-7538-4cb0-88ad-3808832ad570",
   "metadata": {},
   "outputs": [
    {
     "data": {
      "text/plain": [
       "{'name': 'Tonia', 'age': 12, 'school': 73, 'city': 'Wroclaw', 'year': 2011}"
      ]
     },
     "execution_count": 26,
     "metadata": {},
     "output_type": "execute_result"
    }
   ],
   "source": [
    "me[\"year\"] = 2011\n",
    "me"
   ]
  },
  {
   "cell_type": "code",
   "execution_count": 32,
   "id": "15156a9f-877e-4485-aafc-102c5606b74c",
   "metadata": {},
   "outputs": [
    {
     "name": "stdout",
     "output_type": "stream",
     "text": [
      "{1: 1, 2: 1, 3: 1, 4: 1, 5: 2, 6: 1, 7: 1, 8: 1, 9: 1, 10: 3, 11: 5, 12: 1, 13: 1, 14: 1, 15: 2, 16: 1, 17: 1, 18: 1, 19: 1, 20: 3, 21: 1, 22: 5, 23: 1, 24: 1, 25: 2, 26: 1, 27: 1, 28: 1, 29: 1, 30: 3, 31: 1, 32: 1, 33: 5, 34: 1, 35: 2, 36: 1, 37: 1, 38: 1, 39: 1, 40: 3, 41: 1, 42: 1, 43: 1, 44: 5, 45: 2, 46: 1, 47: 1, 48: 1, 49: 1, 50: 3, 51: 1, 52: 1, 53: 1, 54: 1, 55: 7, 56: 1, 57: 1, 58: 1, 59: 1, 60: 3, 61: 1, 62: 1, 63: 1, 64: 1, 65: 2, 66: 5, 67: 1, 68: 1, 69: 1, 70: 3, 71: 1, 72: 1, 73: 1, 74: 1, 75: 2, 76: 1, 77: 5, 78: 1, 79: 1, 80: 3, 81: 1, 82: 1, 83: 1, 84: 1, 85: 2, 86: 1, 87: 1, 88: 5, 89: 1, 90: 3, 91: 1, 92: 1, 93: 1, 94: 1, 95: 2, 96: 1, 97: 1, 98: 1, 99: 5, 100: 3, 101: 1, 102: 1, 103: 1, 104: 1}\n"
     ]
    }
   ],
   "source": [
    "ochki = {}\n",
    "for card in cards:\n",
    "   \n",
    "    if card == 55:\n",
    "        points = 7\n",
    "    elif card % 10 == 0:\n",
    "        points = 3\n",
    "    elif card % 5 == 0:\n",
    "        points = 2\n",
    "    elif card % 11 == 0:\n",
    "        points = 5\n",
    "    else:\n",
    "        points = 1\n",
    "    # print(f\"card: {card}, points: {points}\") \n",
    "    ochki[card] = points\n",
    "print(ochki)\n",
    "    "
   ]
  },
  {
   "cell_type": "code",
   "execution_count": 35,
   "id": "537a1c19-16e7-445e-b152-2a60a04ba2a9",
   "metadata": {},
   "outputs": [
    {
     "data": {
      "text/plain": [
       "10"
      ]
     },
     "execution_count": 35,
     "metadata": {},
     "output_type": "execute_result"
    }
   ],
   "source": [
    "ochki[44] = 10\n",
    "ochki[44]"
   ]
  },
  {
   "cell_type": "code",
   "execution_count": 37,
   "id": "271eb260-1733-4a1b-bd13-5477c173da64",
   "metadata": {},
   "outputs": [],
   "source": [
    "ochki[200] = 3"
   ]
  },
  {
   "cell_type": "code",
   "execution_count": 40,
   "id": "d44f92b1-e27a-4292-a116-e2656f78be7d",
   "metadata": {},
   "outputs": [
    {
     "data": {
      "text/plain": [
       "[1, 5, 9]"
      ]
     },
     "execution_count": 40,
     "metadata": {},
     "output_type": "execute_result"
    }
   ],
   "source": [
    "l = [5, 1, 9]\n",
    "l.sort()\n",
    "l"
   ]
  },
  {
   "cell_type": "code",
   "execution_count": 41,
   "id": "925e33b7-6dab-483b-88c7-db061c593cbd",
   "metadata": {},
   "outputs": [
    {
     "data": {
      "text/plain": [
       "1"
      ]
     },
     "execution_count": 41,
     "metadata": {},
     "output_type": "execute_result"
    }
   ],
   "source": [
    "min(l)"
   ]
  },
  {
   "cell_type": "code",
   "execution_count": 42,
   "id": "628300ee-2363-4d8a-b107-16c0f0390de4",
   "metadata": {},
   "outputs": [
    {
     "data": {
      "text/plain": [
       "9"
      ]
     },
     "execution_count": 42,
     "metadata": {},
     "output_type": "execute_result"
    }
   ],
   "source": [
    "max(l)"
   ]
  },
  {
   "cell_type": "code",
   "execution_count": 43,
   "id": "37168e75-449d-4898-9f85-b3182a1088d4",
   "metadata": {},
   "outputs": [],
   "source": [
    "class Student:\n",
    "    def __init__(self, name, age, group, subjects):\n",
    "        self.name = name\n",
    "        self.age = age\n",
    "        self.group = group\n",
    "        self.subjects = subjects\n",
    "        \n",
    "    def show_info(self):\n",
    "        info = \"Student's info\\n\"\n",
    "        info += f\"Name: {self.name}\\n\"\n",
    "        info += f\"Age: {self.age}\\n\"\n",
    "        info += f\"Group: {self.group}\\n\"\n",
    "        info += f\"Subjects: {self.subjects}\"\n",
    "        print(info)"
   ]
  },
  {
   "cell_type": "code",
   "execution_count": 44,
   "id": "83011e80-5238-4760-b889-ca23e67bd8e7",
   "metadata": {},
   "outputs": [
    {
     "name": "stdout",
     "output_type": "stream",
     "text": [
      "Jenny\n"
     ]
    }
   ],
   "source": [
    "s1 = Student(\"Jenny\", 12, \"7a\", [\"Math\", \"English\", \"PE\"])\n",
    "print(s1.name)"
   ]
  },
  {
   "cell_type": "code",
   "execution_count": 45,
   "id": "243e8ef0-f166-4d32-bace-b3b2c59abb8e",
   "metadata": {},
   "outputs": [
    {
     "data": {
      "text/plain": [
       "['Polish', 'English', 'Biology']"
      ]
     },
     "execution_count": 45,
     "metadata": {},
     "output_type": "execute_result"
    }
   ],
   "source": [
    "s2 = Student(\"Tonia\", 16, \"2b1\", [\"Polish\", \"English\", \"Biology\"])\n",
    "s2.subjects"
   ]
  },
  {
   "cell_type": "code",
   "execution_count": 46,
   "id": "6c5eb579-7f8a-4457-8eac-653827af9a84",
   "metadata": {},
   "outputs": [
    {
     "name": "stdout",
     "output_type": "stream",
     "text": [
      "Student's info\n",
      "Name: Jenny\n",
      "Age: 12\n",
      "Group: 7a\n",
      "Subjects: ['Math', 'English', 'PE']\n"
     ]
    }
   ],
   "source": [
    "s1.show_info()"
   ]
  },
  {
   "cell_type": "code",
   "execution_count": 47,
   "id": "90a03944-969e-41d6-a63b-ef541b3b3b92",
   "metadata": {},
   "outputs": [
    {
     "name": "stdout",
     "output_type": "stream",
     "text": [
      "Student's info\n",
      "Name: Tonia\n",
      "Age: 16\n",
      "Group: 2b1\n",
      "Subjects: ['Polish', 'English', 'Biology']\n"
     ]
    }
   ],
   "source": [
    "s2.show_info()"
   ]
  },
  {
   "cell_type": "code",
   "execution_count": 8,
   "id": "ff4c0d37-3c44-4574-b83f-fe7cf8f64d1b",
   "metadata": {},
   "outputs": [],
   "source": [
    "class Pet:\n",
    "    def __init__(self, name, age, kind, color, weight):\n",
    "        self.name = name\n",
    "        self.age = age\n",
    "        self.kind = kind\n",
    "        self.color = color\n",
    "        self.weight = weight\n",
    "        \n",
    "    def feed_me(self, food_kg):\n",
    "        print(f\"feeding {self.name}\")\n",
    "        print(f\"{self.name} has eaten {food_kg} kg of food.\")\n",
    "        self.weight+=food_kg\n",
    "        print(f\"Now {self.name} weighs {self.weight} kg\")\n",
    "\n",
    "    def go_poo(self, mass):\n",
    "        print(f\"{self.name} is going to toilet\")\n",
    "        print(f\"{self.name} vysrala {mass} kg\")\n",
    "        self.weight -= mass\n",
    "        print(f\"Now {self.name} weighs {self.weight} kg\")"
   ]
  },
  {
   "cell_type": "code",
   "execution_count": 9,
   "id": "16f35785-acdb-49ec-b7dd-6101c4e492b7",
   "metadata": {},
   "outputs": [],
   "source": [
    "simka = Pet(\"Simka\", 6, \"cat\", \"grey\", 4)\n",
    "marusia = Pet(\"Marusia\", 5, \"dog\", \"orange\", 10)\n"
   ]
  },
  {
   "cell_type": "code",
   "execution_count": 10,
   "id": "11018b12-7cc1-4f44-9a32-26720ab41588",
   "metadata": {},
   "outputs": [
    {
     "name": "stdout",
     "output_type": "stream",
     "text": [
      "feeding Simka\n",
      "Simka has eaten 0.2 kg of food.\n",
      "Now Simka weighs 4.2 kg\n"
     ]
    }
   ],
   "source": [
    "simka.feed_me(0.2)"
   ]
  },
  {
   "cell_type": "code",
   "execution_count": 11,
   "id": "fba5eed5-3a9a-4180-9ff9-8868184a41c8",
   "metadata": {},
   "outputs": [
    {
     "data": {
      "text/plain": [
       "4.2"
      ]
     },
     "execution_count": 11,
     "metadata": {},
     "output_type": "execute_result"
    }
   ],
   "source": [
    "simka.weight"
   ]
  },
  {
   "cell_type": "code",
   "execution_count": 12,
   "id": "8174780d-6800-4440-9e63-caba7861c2da",
   "metadata": {},
   "outputs": [
    {
     "name": "stdout",
     "output_type": "stream",
     "text": [
      "feeding Simka\n",
      "Simka has eaten 0.3 kg of food.\n",
      "Now Simka weighs 4.5 kg\n"
     ]
    }
   ],
   "source": [
    "simka.feed_me(0.3)"
   ]
  },
  {
   "cell_type": "code",
   "execution_count": 13,
   "id": "aecdb6ab-6265-4a7e-95a4-3e546bc08192",
   "metadata": {},
   "outputs": [
    {
     "data": {
      "text/plain": [
       "4.5"
      ]
     },
     "execution_count": 13,
     "metadata": {},
     "output_type": "execute_result"
    }
   ],
   "source": [
    "simka.weight"
   ]
  },
  {
   "cell_type": "code",
   "execution_count": 14,
   "id": "4beef893-aa43-491b-9372-9a6087641b4f",
   "metadata": {},
   "outputs": [
    {
     "name": "stdout",
     "output_type": "stream",
     "text": [
      "Simka is going to toilet\n",
      "Simka vysrala 0.6 kg\n",
      "Now Simka weighs 3.9 kg\n"
     ]
    }
   ],
   "source": [
    "simka.go_poo(0.6)"
   ]
  },
  {
   "cell_type": "code",
   "execution_count": 15,
   "id": "44ad2b68-8ada-4536-9935-e0feb0daed06",
   "metadata": {},
   "outputs": [
    {
     "name": "stdout",
     "output_type": "stream",
     "text": [
      "feeding Marusia\n",
      "Marusia has eaten 2 kg of food.\n",
      "Now Marusia weighs 12 kg\n"
     ]
    }
   ],
   "source": [
    "marusia.feed_me(2)"
   ]
  },
  {
   "cell_type": "code",
   "execution_count": 16,
   "id": "bf7a7a82-03dc-4a5a-8e8a-94432728ea5a",
   "metadata": {},
   "outputs": [
    {
     "name": "stdout",
     "output_type": "stream",
     "text": [
      "Marusia is going to toilet\n",
      "Marusia vysrala 1.8 kg\n",
      "Now Marusia weighs 10.2 kg\n"
     ]
    }
   ],
   "source": [
    "marusia.go_poo(1.8)"
   ]
  },
  {
   "cell_type": "code",
   "execution_count": 36,
   "id": "16c449a8-310c-4552-8b1d-a603be0188dc",
   "metadata": {},
   "outputs": [],
   "source": [
    "# data types \n",
    "# int \n",
    "x = 10\n",
    "# float\n",
    "x = 3.7\n",
    "# str\n",
    "x = \"popa\"\n",
    "# bool\n",
    "x = True\n",
    "# list\n",
    "x = [1, 2, 3.5, \"popa\", False, [\"a\", \"b\", True], 7]"
   ]
  },
  {
   "cell_type": "code",
   "execution_count": 71,
   "id": "66d2a382-70f6-4b91-be6e-708ef95b37b2",
   "metadata": {},
   "outputs": [],
   "source": [
    "# dict\n",
    "x = {'name': 'Jenny',\n",
    "     'age': 12,\n",
    "     'subjects': ['math', 'infp', 'polish'],\n",
    "     'married': True\n",
    "    }"
   ]
  },
  {
   "cell_type": "code",
   "execution_count": 38,
   "id": "dec7369b-d51b-4bba-b5db-7f11186f1655",
   "metadata": {},
   "outputs": [
    {
     "data": {
      "text/plain": [
       "'Jenny'"
      ]
     },
     "execution_count": 38,
     "metadata": {},
     "output_type": "execute_result"
    }
   ],
   "source": [
    "x['name']"
   ]
  },
  {
   "cell_type": "code",
   "execution_count": 39,
   "id": "ebd98572-83ca-408f-a89e-00f025d6cbb1",
   "metadata": {},
   "outputs": [
    {
     "data": {
      "text/plain": [
       "['math', 'infp', 'polish']"
      ]
     },
     "execution_count": 39,
     "metadata": {},
     "output_type": "execute_result"
    }
   ],
   "source": [
    "x['subjects']"
   ]
  },
  {
   "cell_type": "code",
   "execution_count": 40,
   "id": "0369c1f8-1500-4748-8fa8-77070e5ab206",
   "metadata": {},
   "outputs": [
    {
     "data": {
      "text/plain": [
       "'math'"
      ]
     },
     "execution_count": 40,
     "metadata": {},
     "output_type": "execute_result"
    }
   ],
   "source": [
    "x['subjects'][0]"
   ]
  },
  {
   "cell_type": "code",
   "execution_count": 41,
   "id": "32a85cdd-14c0-4297-b299-f95e4b863738",
   "metadata": {},
   "outputs": [],
   "source": [
    "x['country'] = 'blr'"
   ]
  },
  {
   "cell_type": "code",
   "execution_count": 42,
   "id": "d5d9244c-d3dc-468b-920d-35a9194dda5d",
   "metadata": {},
   "outputs": [
    {
     "data": {
      "text/plain": [
       "{'name': 'Jenny',\n",
       " 'age': 12,\n",
       " 'subjects': ['math', 'infp', 'polish'],\n",
       " 'married': True,\n",
       " 'country': 'blr'}"
      ]
     },
     "execution_count": 42,
     "metadata": {},
     "output_type": "execute_result"
    }
   ],
   "source": [
    "x"
   ]
  },
  {
   "cell_type": "code",
   "execution_count": 43,
   "id": "8370d4f5-89be-4a51-aba2-8041367ae545",
   "metadata": {},
   "outputs": [],
   "source": [
    "x['married'] = False"
   ]
  },
  {
   "cell_type": "code",
   "execution_count": 70,
   "id": "9c157274-685c-4139-b3eb-8b3e53be4796",
   "metadata": {},
   "outputs": [
    {
     "data": {
      "text/plain": [
       "[]"
      ]
     },
     "execution_count": 70,
     "metadata": {},
     "output_type": "execute_result"
    }
   ],
   "source": [
    "x"
   ]
  },
  {
   "cell_type": "code",
   "execution_count": 72,
   "id": "1da48267-d702-44a9-acbd-0b8fe7d756d1",
   "metadata": {},
   "outputs": [
    {
     "data": {
      "text/plain": [
       "3"
      ]
     },
     "execution_count": 72,
     "metadata": {},
     "output_type": "execute_result"
    }
   ],
   "source": [
    "len(x['subjects'])"
   ]
  },
  {
   "cell_type": "code",
   "execution_count": 46,
   "id": "11b8ec02-f680-4819-984e-5a990b37fd6d",
   "metadata": {},
   "outputs": [
    {
     "data": {
      "text/plain": [
       "{'name': 'Jenny',\n",
       " 'age': 12,\n",
       " 'subjects': ['math', 'info', 'polish'],\n",
       " 'married': False,\n",
       " 'country': 'blr'}"
      ]
     },
     "execution_count": 46,
     "metadata": {},
     "output_type": "execute_result"
    }
   ],
   "source": [
    "x"
   ]
  },
  {
   "cell_type": "code",
   "execution_count": 77,
   "id": "fe359d88-371f-4155-a4ee-fcfef53b5e2e",
   "metadata": {},
   "outputs": [],
   "source": [
    "x = [1,2,3,4,5]"
   ]
  },
  {
   "cell_type": "code",
   "execution_count": 84,
   "id": "ddd47d83-14ce-498b-9bce-c77fcf294c6b",
   "metadata": {},
   "outputs": [
    {
     "data": {
      "text/plain": [
       "[4, 5]"
      ]
     },
     "execution_count": 84,
     "metadata": {},
     "output_type": "execute_result"
    }
   ],
   "source": [
    "x[-2:]"
   ]
  },
  {
   "cell_type": "code",
   "execution_count": 85,
   "id": "4e7eaecb-611e-4367-ae71-29db6991f70e",
   "metadata": {},
   "outputs": [
    {
     "data": {
      "text/plain": [
       "[3, 4, 5]"
      ]
     },
     "execution_count": 85,
     "metadata": {},
     "output_type": "execute_result"
    }
   ],
   "source": [
    "x[-3:]"
   ]
  },
  {
   "cell_type": "code",
   "execution_count": 86,
   "id": "c13b55e1-3a97-428a-998c-78404b21aedb",
   "metadata": {},
   "outputs": [],
   "source": [
    "q = 2"
   ]
  },
  {
   "cell_type": "code",
   "execution_count": 89,
   "id": "9a2eb2ae-d8d2-42da-9e84-7ed87dac01af",
   "metadata": {},
   "outputs": [
    {
     "data": {
      "text/plain": [
       "[4, 5]"
      ]
     },
     "execution_count": 89,
     "metadata": {},
     "output_type": "execute_result"
    }
   ],
   "source": [
    "x[-q:]"
   ]
  },
  {
   "cell_type": "markdown",
   "id": "8a6f8a69-d155-497a-995f-8918760579ff",
   "metadata": {},
   "source": [
    "# `for` loops"
   ]
  },
  {
   "cell_type": "code",
   "execution_count": 13,
   "id": "c0a5e96c-c7c5-466e-af59-da73ce37b718",
   "metadata": {},
   "outputs": [],
   "source": [
    "x = range(41)"
   ]
  },
  {
   "cell_type": "code",
   "execution_count": 14,
   "id": "0d7e76f3-680b-4a4a-80b3-7a96d4bee71d",
   "metadata": {},
   "outputs": [
    {
     "data": {
      "text/plain": [
       "[0,\n",
       " 1,\n",
       " 2,\n",
       " 3,\n",
       " 4,\n",
       " 5,\n",
       " 6,\n",
       " 7,\n",
       " 8,\n",
       " 9,\n",
       " 10,\n",
       " 11,\n",
       " 12,\n",
       " 13,\n",
       " 14,\n",
       " 15,\n",
       " 16,\n",
       " 17,\n",
       " 18,\n",
       " 19,\n",
       " 20,\n",
       " 21,\n",
       " 22,\n",
       " 23,\n",
       " 24,\n",
       " 25,\n",
       " 26,\n",
       " 27,\n",
       " 28,\n",
       " 29,\n",
       " 30,\n",
       " 31,\n",
       " 32,\n",
       " 33,\n",
       " 34,\n",
       " 35,\n",
       " 36,\n",
       " 37,\n",
       " 38,\n",
       " 39,\n",
       " 40]"
      ]
     },
     "execution_count": 14,
     "metadata": {},
     "output_type": "execute_result"
    }
   ],
   "source": [
    "list(x)"
   ]
  },
  {
   "cell_type": "code",
   "execution_count": 19,
   "id": "4fc88a5d-dac3-4688-9209-f23325a0fd90",
   "metadata": {},
   "outputs": [
    {
     "name": "stdout",
     "output_type": "stream",
     "text": [
      "0 ends with zero\n",
      "1 is an odd number\n",
      "2 is an even number\n",
      "3 is an odd number\n",
      "4 is an even number\n",
      "5 is an odd number\n",
      "6 is an even number\n",
      "7 is an odd number\n",
      "8 is an even number\n",
      "9 is an odd number\n",
      "10 ends with zero\n",
      "11 is an odd number\n",
      "12 is an even number\n",
      "13 is an odd number\n",
      "14 is an even number\n",
      "15 is an odd number\n",
      "16 is an even number\n",
      "17 is an odd number\n",
      "18 is an even number\n",
      "19 is an odd number\n",
      "20 ends with zero\n",
      "21 is an odd number\n",
      "22 is an even number\n",
      "23 is an odd number\n",
      "24 is an even number\n",
      "25 is an odd number\n",
      "26 is an even number\n",
      "27 is an odd number\n",
      "28 is an even number\n",
      "29 is an odd number\n",
      "30 ends with zero\n",
      "31 is an odd number\n",
      "32 is an even number\n",
      "33 is an odd number\n",
      "34 is an even number\n",
      "35 is an odd number\n",
      "36 is an even number\n",
      "37 is an odd number\n",
      "38 is an even number\n",
      "39 is an odd number\n",
      "40 ends with zero\n"
     ]
    }
   ],
   "source": [
    "for num in x:\n",
    "    \n",
    "    if num % 10 == 0:\n",
    "        print(f'{num} ends with zero')\n",
    "    elif num % 2 == 0:\n",
    "        print(f'{num} is an even number')\n",
    "    else:\n",
    "        print(f'{num} is an odd number') "
   ]
  },
  {
   "cell_type": "code",
   "execution_count": 20,
   "id": "0804786d-e445-4ef3-812d-522dc51f8cad",
   "metadata": {},
   "outputs": [],
   "source": [
    "d = {'name': 'Jenny',\n",
    "     'age': 12,\n",
    "     'subjects': ['math', 'infp', 'polish'],\n",
    "     'married': True\n",
    "    }"
   ]
  },
  {
   "cell_type": "code",
   "execution_count": 24,
   "id": "33155c3c-8d47-4766-847b-97c2de6073a8",
   "metadata": {},
   "outputs": [
    {
     "data": {
      "text/plain": [
       "dict_items([('name', 'Jenny'), ('age', 12), ('subjects', ['math', 'infp', 'polish']), ('married', True)])"
      ]
     },
     "execution_count": 24,
     "metadata": {},
     "output_type": "execute_result"
    }
   ],
   "source": [
    "d.items()"
   ]
  },
  {
   "cell_type": "code",
   "execution_count": 25,
   "id": "12f35f1c-834c-4c4f-b055-5599a92e2308",
   "metadata": {},
   "outputs": [],
   "source": [
    "t = (1,2,3)"
   ]
  },
  {
   "cell_type": "code",
   "execution_count": 26,
   "id": "f53452c6-35c2-4b18-819d-5e7fc830dc1a",
   "metadata": {},
   "outputs": [
    {
     "data": {
      "text/plain": [
       "1"
      ]
     },
     "execution_count": 26,
     "metadata": {},
     "output_type": "execute_result"
    }
   ],
   "source": [
    "t[0]"
   ]
  },
  {
   "cell_type": "code",
   "execution_count": 27,
   "id": "692e2489-8ef2-4041-b7fc-0efa11fd0c98",
   "metadata": {},
   "outputs": [],
   "source": [
    "m= [1,2,3]"
   ]
  },
  {
   "cell_type": "code",
   "execution_count": 28,
   "id": "b01ab48b-73f3-4df9-aab0-306d487e5883",
   "metadata": {},
   "outputs": [],
   "source": [
    "m[0] = 5"
   ]
  },
  {
   "cell_type": "code",
   "execution_count": 29,
   "id": "fa3d4bf2-f25e-4e70-8165-7bcbe7ffd35e",
   "metadata": {},
   "outputs": [
    {
     "data": {
      "text/plain": [
       "[5, 2, 3]"
      ]
     },
     "execution_count": 29,
     "metadata": {},
     "output_type": "execute_result"
    }
   ],
   "source": [
    "m"
   ]
  },
  {
   "cell_type": "code",
   "execution_count": 30,
   "id": "af4bfd0e-1b2f-4d49-a08e-6ed2f2761a72",
   "metadata": {},
   "outputs": [
    {
     "ename": "TypeError",
     "evalue": "'tuple' object does not support item assignment",
     "output_type": "error",
     "traceback": [
      "\u001b[0;31m---------------------------------------------------------------------------\u001b[0m",
      "\u001b[0;31mTypeError\u001b[0m                                 Traceback (most recent call last)",
      "Cell \u001b[0;32mIn [30], line 1\u001b[0m\n\u001b[0;32m----> 1\u001b[0m \u001b[43mt\u001b[49m\u001b[43m[\u001b[49m\u001b[38;5;241;43m0\u001b[39;49m\u001b[43m]\u001b[49m \u001b[38;5;241m=\u001b[39m \u001b[38;5;241m0\u001b[39m\n",
      "\u001b[0;31mTypeError\u001b[0m: 'tuple' object does not support item assignment"
     ]
    }
   ],
   "source": [
    "t[0] = 0"
   ]
  },
  {
   "cell_type": "code",
   "execution_count": 31,
   "id": "9c697deb-f1e1-4d93-8471-f113f0d68bea",
   "metadata": {},
   "outputs": [
    {
     "data": {
      "text/plain": [
       "dict_keys(['name', 'age', 'subjects', 'married'])"
      ]
     },
     "execution_count": 31,
     "metadata": {},
     "output_type": "execute_result"
    }
   ],
   "source": [
    "d.keys()"
   ]
  },
  {
   "cell_type": "code",
   "execution_count": 61,
   "id": "a3a849e4-360a-4841-ae10-f74efa2a0da9",
   "metadata": {},
   "outputs": [
    {
     "name": "stdout",
     "output_type": "stream",
     "text": [
      "The word \"name\" has letter \"m\"\n",
      "\tThe position of the letter \"m\" is 3\n",
      "\t\tThere are 4 letters in the word \"name\"\n",
      "\n",
      "The word \"age\" does not have letter \"m\"\n",
      "\t\tThere are 3 letters in the word \"age\"\n",
      "\n",
      "The word \"subjects\" does not have letter \"m\"\n",
      "\t\tThere are 8 letters in the word \"subjects\"\n",
      "\n",
      "The word \"married\" has letter \"m\"\n",
      "\tThe position of the letter \"m\" is 1\n",
      "\t\tThere are 7 letters in the word \"married\"\n",
      "\n",
      "There are 22 letters in all words\n"
     ]
    }
   ],
   "source": [
    "letter = \"m\"\n",
    "t = 0\n",
    "for key in d.keys():\n",
    "    l = len(key)\n",
    "    if letter in key:\n",
    "        print(f'The word \"{key}\" has letter \"{letter}\"')\n",
    "        f = key.index(letter)\n",
    "        print(f'\\tThe position of the letter \"{letter}\" is {f+1}')\n",
    "    else:\n",
    "        print(f'The word \"{key}\" does not have letter \"{letter}\"')\n",
    "    print(f'\\t\\tThere are {l} letters in the word \"{key}\"\\n')\n",
    "    t+=l\n",
    "print(f'There are {t} letters in all words')"
   ]
  },
  {
   "cell_type": "code",
   "execution_count": 32,
   "id": "5ada6156-4993-45b7-a3b7-eb1e29f22959",
   "metadata": {},
   "outputs": [],
   "source": [
    "name = 'Jenny'"
   ]
  },
  {
   "cell_type": "code",
   "execution_count": 33,
   "id": "8c31e943-a409-46dc-b412-d6f0eadc0ef7",
   "metadata": {},
   "outputs": [
    {
     "data": {
      "text/plain": [
       "True"
      ]
     },
     "execution_count": 33,
     "metadata": {},
     "output_type": "execute_result"
    }
   ],
   "source": [
    "\"n\" in name"
   ]
  },
  {
   "cell_type": "code",
   "execution_count": 1,
   "id": "96776c5c-ac5b-49fc-b876-aef7a8fb582b",
   "metadata": {},
   "outputs": [],
   "source": [
    "class Chel:\n",
    "    def __init__(self, name, age, money, grades):\n",
    "        self.name = name\n",
    "        self.age = age\n",
    "        self.money = money\n",
    "        self.grades = grades\n",
    "    \n",
    "    def show_info(self):\n",
    "        print(self.__dict__)\n",
    "        \n",
    "    def get_grade(self, new_grade):\n",
    "        self.grades.append(new_grade)\n",
    "        \n",
    "    def show_grades(self):\n",
    "        print(f\"{self.name}'s grades are: {self.grades}\")\n",
    "        \n",
    "    def get_dengi(self, kwota):\n",
    "        if kwota <= 0:\n",
    "            print(f\"{self.name} said 'A gde dengi?'\")\n",
    "            return\n",
    "        else:\n",
    "            self.money += kwota\n",
    "        \n",
    "        if kwota <= 100:\n",
    "            print(f\"{self.name} said 'spasibo'\")\n",
    "        else:\n",
    "            print(f\"{self.name} said 'spasiba, bro'\")\n",
    "        \n",
    "    def show_dengi(self):\n",
    "        print(f\"{self.name} has {self.money} deneg\")\n",
    "        \n",
    "    def give_dengi(self, kwota):\n",
    "        if kwota <= 0:\n",
    "            print(\"Cho\")\n",
    "            return 0\n",
    "        elif kwota > self.money:\n",
    "            print(f'''{self.name} said \"Sorry, bro\"''')\n",
    "            return 0\n",
    "        else:\n",
    "            self.money -= kwota\n",
    "            return kwota\n",
    "    \n",
    "    def birth_year(self):\n",
    "        return 2023 - self.age"
   ]
  },
  {
   "cell_type": "code",
   "execution_count": 2,
   "id": "6bdb25f3-0b16-43ac-b45e-5c6addf132ea",
   "metadata": {},
   "outputs": [],
   "source": [
    "jenny = Chel(\"Jenny\", 12, 200, [5,5,4,5])\n",
    "roma = Chel('Roma', 18, 300, None)\n",
    "tonia = Chel('Tonia', 16 , 200, [5,6,3,4])"
   ]
  },
  {
   "cell_type": "code",
   "execution_count": 3,
   "id": "1d402aeb-3906-4611-b6f9-3c2590af37a2",
   "metadata": {},
   "outputs": [
    {
     "name": "stdout",
     "output_type": "stream",
     "text": [
      "{'name': 'Jenny', 'age': 12, 'money': 200, 'grades': [5, 5, 4, 5]}\n",
      "{'name': 'Roma', 'age': 18, 'money': 300, 'grades': None}\n",
      "{'name': 'Tonia', 'age': 16, 'money': 200, 'grades': [5, 6, 3, 4]}\n"
     ]
    }
   ],
   "source": [
    "jenny.show_info()\n",
    "roma.show_info()\n",
    "tonia.show_info()"
   ]
  },
  {
   "cell_type": "code",
   "execution_count": 101,
   "id": "16c29068-86dc-4bec-b20e-5c89a31179b4",
   "metadata": {},
   "outputs": [
    {
     "name": "stdout",
     "output_type": "stream",
     "text": [
      "Jenny said 'spasibo'\n"
     ]
    }
   ],
   "source": [
    "jenny.get_dengi(roma.give_dengi(50))\n"
   ]
  },
  {
   "cell_type": "code",
   "execution_count": 103,
   "id": "fe5330a5-65db-40dd-882b-e0da3372f46c",
   "metadata": {},
   "outputs": [
    {
     "name": "stdout",
     "output_type": "stream",
     "text": [
      "Jenny said 'spasibo'\n"
     ]
    }
   ],
   "source": [
    "jenny.get_dengi(tonia.give_dengi(10))"
   ]
  },
  {
   "cell_type": "code",
   "execution_count": 4,
   "id": "61d2d9b3-544c-4a25-8559-9da501bf7f82",
   "metadata": {},
   "outputs": [],
   "source": [
    "by = jenny.birth_year()"
   ]
  },
  {
   "cell_type": "code",
   "execution_count": 5,
   "id": "e8dd7afe-aba4-4933-9d47-fd8704d492c0",
   "metadata": {},
   "outputs": [
    {
     "data": {
      "text/plain": [
       "2011"
      ]
     },
     "execution_count": 5,
     "metadata": {},
     "output_type": "execute_result"
    }
   ],
   "source": [
    "by"
   ]
  },
  {
   "cell_type": "code",
   "execution_count": 44,
   "id": "e30cb85e-817d-491b-9520-3ddc7b4938e6",
   "metadata": {},
   "outputs": [],
   "source": [
    "import pandas as pd"
   ]
  },
  {
   "cell_type": "code",
   "execution_count": 50,
   "id": "f4fec205-d447-4c5e-a3de-e1265b068be2",
   "metadata": {},
   "outputs": [],
   "source": [
    "result = {\n",
    "    \"p0\": [32, 10, 50, 67, 4, None],\n",
    "    \"p1\": [23, 54, 73, 3, -5, False],\n",
    "    \"p2\": [45, 72, 34, 0, True, 4],\n",
    "    \"p3\": [56, 23, 8 ,6, \"pon\", 432]\n",
    "}"
   ]
  },
  {
   "cell_type": "code",
   "execution_count": 51,
   "id": "bdc5a82a-0bd8-4685-a89b-2f7f6842b9ec",
   "metadata": {},
   "outputs": [
    {
     "data": {
      "text/html": [
       "<div>\n",
       "<style scoped>\n",
       "    .dataframe tbody tr th:only-of-type {\n",
       "        vertical-align: middle;\n",
       "    }\n",
       "\n",
       "    .dataframe tbody tr th {\n",
       "        vertical-align: top;\n",
       "    }\n",
       "\n",
       "    .dataframe thead th {\n",
       "        text-align: right;\n",
       "    }\n",
       "</style>\n",
       "<table border=\"1\" class=\"dataframe\">\n",
       "  <thead>\n",
       "    <tr style=\"text-align: right;\">\n",
       "      <th></th>\n",
       "      <th>p0</th>\n",
       "      <th>p1</th>\n",
       "      <th>p2</th>\n",
       "      <th>p3</th>\n",
       "    </tr>\n",
       "  </thead>\n",
       "  <tbody>\n",
       "    <tr>\n",
       "      <th>0</th>\n",
       "      <td>32.0</td>\n",
       "      <td>23</td>\n",
       "      <td>45</td>\n",
       "      <td>56</td>\n",
       "    </tr>\n",
       "    <tr>\n",
       "      <th>1</th>\n",
       "      <td>10.0</td>\n",
       "      <td>54</td>\n",
       "      <td>72</td>\n",
       "      <td>23</td>\n",
       "    </tr>\n",
       "    <tr>\n",
       "      <th>2</th>\n",
       "      <td>50.0</td>\n",
       "      <td>73</td>\n",
       "      <td>34</td>\n",
       "      <td>8</td>\n",
       "    </tr>\n",
       "    <tr>\n",
       "      <th>3</th>\n",
       "      <td>67.0</td>\n",
       "      <td>3</td>\n",
       "      <td>0</td>\n",
       "      <td>6</td>\n",
       "    </tr>\n",
       "    <tr>\n",
       "      <th>4</th>\n",
       "      <td>4.0</td>\n",
       "      <td>-5</td>\n",
       "      <td>True</td>\n",
       "      <td>pon</td>\n",
       "    </tr>\n",
       "    <tr>\n",
       "      <th>5</th>\n",
       "      <td>NaN</td>\n",
       "      <td>False</td>\n",
       "      <td>4</td>\n",
       "      <td>432</td>\n",
       "    </tr>\n",
       "  </tbody>\n",
       "</table>\n",
       "</div>"
      ],
      "text/plain": [
       "     p0     p1    p2   p3\n",
       "0  32.0     23    45   56\n",
       "1  10.0     54    72   23\n",
       "2  50.0     73    34    8\n",
       "3  67.0      3     0    6\n",
       "4   4.0     -5  True  pon\n",
       "5   NaN  False     4  432"
      ]
     },
     "execution_count": 51,
     "metadata": {},
     "output_type": "execute_result"
    }
   ],
   "source": [
    "df = pd.DataFrame(result)\n",
    "df"
   ]
  },
  {
   "cell_type": "code",
   "execution_count": null,
   "id": "263f3632-9569-475e-a9ff-80be2bf22aa3",
   "metadata": {},
   "outputs": [],
   "source": []
  }
 ],
 "metadata": {
  "kernelspec": {
   "display_name": "trash",
   "language": "python",
   "name": "trash"
  },
  "language_info": {
   "codemirror_mode": {
    "name": "ipython",
    "version": 3
   },
   "file_extension": ".py",
   "mimetype": "text/x-python",
   "name": "python",
   "nbconvert_exporter": "python",
   "pygments_lexer": "ipython3",
   "version": "3.10.12"
  }
 },
 "nbformat": 4,
 "nbformat_minor": 5
}
